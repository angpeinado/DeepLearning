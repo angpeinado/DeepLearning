{
 "cells": [
  {
   "cell_type": "markdown",
   "metadata": {},
   "source": [
    "# Crea una Red Neuronal Artificial en Python"
   ]
  },
  {
   "cell_type": "markdown",
   "metadata": {},
   "source": [
    "Crearemos una red neuronal simple, con 3 capas, neuronas con valores de entrada/salida -1 a 1\n",
    "\n",
    "Ver: https://www.aprendemachinelearning.com/crear-una-red-neuronal-en-python-desde-cero/"
   ]
  },
  {
   "cell_type": "code",
   "execution_count": 1,
   "metadata": {
    "ExecuteTime": {
     "end_time": "2018-07-25T10:30:57.447541Z",
     "start_time": "2018-07-25T10:30:56.855041Z"
    }
   },
   "outputs": [],
   "source": [
    "import numpy as np\n",
    "\n",
    "def sigmoid(x):\n",
    "    return 1.0/(1.0 + np.exp(-x))\n",
    "\n",
    "def sigmoid_derivada(x):\n",
    "    return sigmoid(x)*(1.0-sigmoid(x))\n",
    "\n",
    "def tanh(x):\n",
    "    return np.tanh(x)\n",
    "\n",
    "def tanh_derivada(x):\n",
    "    return 1.0 - x**2\n",
    "\n",
    "#https://stackoverflow.com/questions/625083/what-init-and-self-do-on-python\n",
    "class NeuralNetwork:\n",
    "\n",
    "    def __init__(self, layers, activation='tanh'):\n",
    "        if activation == 'sigmoid':\n",
    "            self.activation = sigmoid\n",
    "            self.activation_prime = sigmoid_derivada\n",
    "        elif activation == 'tanh':\n",
    "            self.activation = tanh\n",
    "            self.activation_prime = tanh_derivada\n",
    "\n",
    "        # inicializo los pesos\n",
    "        self.weights = []\n",
    "        self.deltas = []\n",
    "        # capas = [2,3,2]\n",
    "        # rando de pesos varia entre (-1,1)\n",
    "        # asigno valores aleatorios a capa de entrada y capa oculta\n",
    "        for i in range(1, len(layers) - 1):\n",
    "            r = 2*np.random.random((layers[i-1] + 1, layers[i] + 1)) -1\n",
    "            self.weights.append(r)\n",
    "        # asigno aleatorios a capa de salida\n",
    "        r = 2*np.random.random( (layers[i] + 1, layers[i+1])) - 1\n",
    "        self.weights.append(r)\n",
    "\n",
    "    def fit(self, X, y, learning_rate=0.2, epochs=100000):\n",
    "        # Agrego columna de unos a las entradas X\n",
    "        # Con esto agregamos la unidad de Bias a la capa de entrada\n",
    "        ones = np.atleast_2d(np.ones(X.shape[0]))\n",
    "        X = np.concatenate((ones.T, X), axis=1)\n",
    "        \n",
    "        for k in range(epochs):\n",
    "            i = np.random.randint(X.shape[0])\n",
    "            a = [X[i]]\n",
    "\n",
    "            for l in range(len(self.weights)):\n",
    "                    dot_value = np.dot(a[l], self.weights[l])\n",
    "                    activation = self.activation(dot_value)\n",
    "                    a.append(activation)\n",
    "            # Calculo la diferencia en la capa de salida y el valor obtenido\n",
    "            error = y[i] - a[-1]\n",
    "            deltas = [error * self.activation_prime(a[-1])]\n",
    "            \n",
    "            # Empezamos en el segundo layer hasta el ultimo\n",
    "            # (Una capa anterior a la de salida)\n",
    "            for l in range(len(a) - 2, 0, -1): \n",
    "                deltas.append(deltas[-1].dot(self.weights[l].T)*self.activation_prime(a[l]))\n",
    "            self.deltas.append(deltas)\n",
    "\n",
    "            # invertir\n",
    "            # [level3(output)->level2(hidden)]  => [level2(hidden)->level3(output)]\n",
    "            deltas.reverse()\n",
    "\n",
    "            # backpropagation\n",
    "            # 1. Multiplcar los delta de salida con las activaciones de entrada \n",
    "            #    para obtener el gradiente del peso.\n",
    "            # 2. actualizo el peso restandole un porcentaje del gradiente\n",
    "            for i in range(len(self.weights)):\n",
    "                layer = np.atleast_2d(a[i])\n",
    "                delta = np.atleast_2d(deltas[i])\n",
    "                self.weights[i] += learning_rate * layer.T.dot(delta)\n",
    "\n",
    "            if k % 10000 == 0: print('epochs:', k)\n",
    "\n",
    "    def predict(self, x): \n",
    "        ones = np.atleast_2d(np.ones(x.shape[0]))\n",
    "        a = np.concatenate((np.ones(1).T, np.array(x)), axis=0)\n",
    "        for l in range(0, len(self.weights)):\n",
    "            a = self.activation(np.dot(a, self.weights[l]))\n",
    "        return a\n",
    "\n",
    "    def print_weights(self):\n",
    "        print(\"LISTADO PESOS DE CONEXIONES\")\n",
    "        for i in range(len(self.weights)):\n",
    "            print(self.weights[i])\n",
    "\n",
    "    def get_deltas(self):\n",
    "        return self.deltas"
   ]
  },
  {
   "cell_type": "markdown",
   "metadata": {},
   "source": [
    "Creamos una Primer Red emulando a la función XOR"
   ]
  },
  {
   "cell_type": "code",
   "execution_count": 4,
   "metadata": {
    "ExecuteTime": {
     "end_time": "2018-07-25T10:30:58.202079Z",
     "start_time": "2018-07-25T10:30:57.449918Z"
    }
   },
   "outputs": [
    {
     "name": "stdout",
     "output_type": "stream",
     "text": [
      "epochs: 0\n",
      "Entrdas: [0 0] Salidas: [0.00157159]\n",
      "Entrdas: [0 1] Salidas: [0.9543319]\n",
      "Entrdas: [1 0] Salidas: [0.96564837]\n",
      "Entrdas: [1 1] Salidas: [-0.00366065]\n"
     ]
    }
   ],
   "source": [
    "# funcion XOR\n",
    "nn = NeuralNetwork([2,2,1])\n",
    "X = np.array([[0, 0],\n",
    "            [0, 1],\n",
    "            [1, 0],\n",
    "            [1, 1]])\n",
    "y = np.array([0, 1, 1, 0])\n",
    "nn.fit(X, y,epochs=2000)\n",
    "for e in X:\n",
    "    print(\"Entrdas:\",e,\"Salidas:\",nn.predict(e))"
   ]
  },
  {
   "cell_type": "markdown",
   "metadata": {},
   "source": [
    "## Comportamiento de un Coche Robot"
   ]
  },
  {
   "cell_type": "markdown",
   "metadata": {},
   "source": [
    "Crearemos una red neuronal que nos dará los pesos para las conexiones que utilizaremos en un coche robot Arduino"
   ]
  },
  {
   "cell_type": "code",
   "execution_count": 5,
   "metadata": {
    "ExecuteTime": {
     "end_time": "2018-07-25T10:30:58.780875Z",
     "start_time": "2018-07-25T10:30:58.204952Z"
    }
   },
   "outputs": [
    {
     "name": "stdout",
     "output_type": "stream",
     "text": [
      "epochs: 0\n",
      "epochs: 10000\n",
      "X: [0. 0.] y: [0 1] Network: [0.00252727 0.9999774 ]\n",
      "X: [0. 1.] y: [0 1] Network: [-0.00601451  0.99992416]\n",
      "X: [ 0. -1.] y: [0 1] Network: [-7.57541757e-04  9.99968175e-01]\n",
      "X: [0.5 1. ] y: [-1  1] Network: [-0.9368024   0.97794523]\n",
      "X: [ 0.5 -1. ] y: [1 1] Network: [0.94564776 0.94517842]\n",
      "X: [1. 1.] y: [ 0 -1] Network: [-0.00770602 -0.9984453 ]\n",
      "X: [ 1. -1.] y: [ 0 -1] Network: [ 0.00612022 -0.96729893]\n"
     ]
    }
   ],
   "source": [
    "# funcion Coche Evita obstáculos\n",
    "nn = NeuralNetwork([2,3,2],activation ='tanh')\n",
    "X = np.array([[0, 0],   # sin obstaculos\n",
    "              [0, 1],   # sin obstaculos\n",
    "              [0, -1],  # sin obstaculos\n",
    "              [0.5, 1], # obstaculo detectado a derecha\n",
    "              [0.5,-1], # obstaculo a izq\n",
    "              [1,1],    # demasiado cerca a derecha\n",
    "              [1,-1]])  # demasiado cerca a izq\n",
    "\n",
    "y = np.array([[0,1],    # avanzar\n",
    "              [0,1],    # avanzar\n",
    "              [0,1],    # avanzar\n",
    "              [-1,1],   # giro izquierda\n",
    "              [1,1],    # giro derecha\n",
    "              [0,-1],   # retroceder\n",
    "              [0,-1]])  # retroceder\n",
    "nn.fit(X, y, learning_rate=0.03,epochs=15001)\n",
    "\n",
    "index=0\n",
    "for e in X:\n",
    "    print(\"X:\",e,\"y:\",y[index],\"Network:\",nn.predict(e))\n",
    "    index=index+1\n"
   ]
  },
  {
   "cell_type": "code",
   "execution_count": 6,
   "metadata": {
    "ExecuteTime": {
     "end_time": "2018-07-25T10:30:58.790786Z",
     "start_time": "2018-07-25T10:30:58.783641Z"
    }
   },
   "outputs": [
    {
     "name": "stdout",
     "output_type": "stream",
     "text": [
      "LISTADO PESOS DE CONEXIONES\n",
      "[[-1.57726867 -0.15637336 -1.72902365 -1.22089526]\n",
      " [ 3.05727524  0.01598301  1.88721042  2.62980122]\n",
      " [-0.77463899  1.19529294  0.25282526  0.79522642]]\n",
      "[[ 1.98807758 -2.23836558]\n",
      " [ 1.05285472 -0.30971775]\n",
      " [-0.38850101 -3.13187955]\n",
      " [-1.93644975 -0.77561708]]\n"
     ]
    }
   ],
   "source": [
    "nn.print_weights()"
   ]
  },
  {
   "cell_type": "markdown",
   "metadata": {},
   "source": [
    "# Graficamos la función coste "
   ]
  },
  {
   "cell_type": "markdown",
   "metadata": {},
   "source": [
    "Vemos como el gradiente desciende y disminuye el error a medida que pasan las iteraciones de aprendizaje"
   ]
  },
  {
   "cell_type": "code",
   "execution_count": 8,
   "metadata": {
    "ExecuteTime": {
     "end_time": "2018-07-25T10:31:40.473536Z",
     "start_time": "2018-07-25T10:31:40.183342Z"
    }
   },
   "outputs": [
    {
     "data": {
      "image/png": "[encoded data removed]",
      "text/plain": [
       "<Figure size 432x288 with 1 Axes>"
      ]
     },
     "metadata": {
      "needs_background": "light"
     },
     "output_type": "display_data"
    }
   ],
   "source": [
    "import matplotlib.pyplot as plt\n",
    "\n",
    "deltas = nn.get_deltas()\n",
    "valores=[]\n",
    "index=0\n",
    "for arreglo in deltas:\n",
    "    valores.append(arreglo[1][0] + arreglo[1][1])\n",
    "    index=index+1\n",
    "\n",
    "plt.plot(range(len(valores)), valores, color='b')\n",
    "plt.ylim([0, 1])\n",
    "plt.ylabel('Cost')\n",
    "plt.xlabel('Epochs')\n",
    "plt.tight_layout()\n",
    "plt.show()"
   ]
  },
  {
   "cell_type": "markdown",
   "metadata": {
    "ExecuteTime": {
     "end_time": "2018-07-25T10:25:56.999747Z",
     "start_time": "2018-07-25T10:25:56.975198Z"
    }
   },
   "source": [
    "Lee el artículo completo en www.aprendemachinelearning.com"
   ]
  },
  {
   "cell_type": "markdown",
   "metadata": {},
   "source": [
    "Sigeme en Twitter @jbagnato"
   ]
  },
  {
   "cell_type": "code",
   "execution_count": null,
   "metadata": {},
   "outputs": [],
   "source": []
  }
 ],
 "metadata": {
  "kernelspec": {
   "display_name": "Python 3",
   "language": "python",
   "name": "python3"
  },
  "language_info": {
   "codemirror_mode": {
    "name": "ipython",
    "version": 3
   },
   "file_extension": ".py",
   "mimetype": "text/x-python",
   "name": "python",
   "nbconvert_exporter": "python",
   "pygments_lexer": "ipython3",
   "version": "3.7.3"
  }
 },
 "nbformat": 4,
 "nbformat_minor": 2
}
